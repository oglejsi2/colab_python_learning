{
  "nbformat": 4,
  "nbformat_minor": 0,
  "metadata": {
    "colab": {
      "provenance": [],
      "authorship_tag": "ABX9TyMftR4BCDkHwrktPDDO9aia",
      "include_colab_link": true
    },
    "kernelspec": {
      "name": "python3",
      "display_name": "Python 3"
    },
    "language_info": {
      "name": "python"
    }
  },
  "cells": [
    {
      "cell_type": "markdown",
      "metadata": {
        "id": "view-in-github",
        "colab_type": "text"
      },
      "source": [
        "<a href=\"https://colab.research.google.com/github/oglejsi2/colab_python_learning/blob/main/learning_01_02_prompt.ipynb\" target=\"_parent\"><img src=\"https://colab.research.google.com/assets/colab-badge.svg\" alt=\"Open In Colab\"/></a>"
      ]
    },
    {
      "cell_type": "code",
      "source": [
        "#Lets take another step\n",
        "#1. The program will ask us what is your name with a command named input\n",
        "#2  It will store the name we entered into variable called vname. This is a little box storing the value for later use\n",
        "#3  At the last step the program will return nice greeting using varible vname.\n",
        "vname = input('What is your name? ')   #ask about a name and store it to variable\n",
        "print(\"Hello \" + vname)              #as you can see we are using print command from previous lesson"
      ],
      "metadata": {
        "id": "Qguq41PmGA4p"
      },
      "execution_count": null,
      "outputs": []
    }
  ]
}