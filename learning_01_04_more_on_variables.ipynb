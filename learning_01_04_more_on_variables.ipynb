{
  "nbformat": 4,
  "nbformat_minor": 0,
  "metadata": {
    "colab": {
      "provenance": [],
      "authorship_tag": "ABX9TyPBt+5lHWzHI+o/aLur/TzV",
      "include_colab_link": true
    },
    "kernelspec": {
      "name": "python3",
      "display_name": "Python 3"
    },
    "language_info": {
      "name": "python"
    }
  },
  "cells": [
    {
      "cell_type": "markdown",
      "metadata": {
        "id": "view-in-github",
        "colab_type": "text"
      },
      "source": [
        "<a href=\"https://colab.research.google.com/github/oglejsi2/colab_python_learning/blob/main/learning_01_04_loops.ipynb\" target=\"_parent\"><img src=\"https://colab.research.google.com/assets/colab-badge.svg\" alt=\"Open In Colab\"/></a>"
      ]
    },
    {
      "cell_type": "code",
      "execution_count": 5,
      "metadata": {
        "id": "Cau0Vh1WMmYR",
        "colab": {
          "base_uri": "https://localhost:8080/"
        },
        "outputId": "5c97b7b7-fd25-484e-9a31-eda099af751a"
      },
      "outputs": [
        {
          "output_type": "stream",
          "name": "stdout",
          "text": [
            "3\n"
          ]
        }
      ],
      "source": [
        "#We worked with strings / characters. Now we will add numbers now\n",
        "#Let's write a program that adds two numbers\n",
        "#we will use print to output the results\n",
        "x=1\n",
        "y=2\n",
        "sum=x+y\n",
        "print(sum)"
      ]
    },
    {
      "cell_type": "code",
      "source": [
        "#What hapens if we change one number to character\n",
        "#Yes we get an error becouse you can not add numbers and characters\n",
        "x=1\n",
        "y='2'\n",
        "sum=x+y\n",
        "print(sum)"
      ],
      "metadata": {
        "colab": {
          "base_uri": "https://localhost:8080/",
          "height": 217
        },
        "id": "bSreZbqVOlNI",
        "outputId": "0b761702-d57f-4aa9-f8c5-60667d2d9bd1"
      },
      "execution_count": 7,
      "outputs": [
        {
          "output_type": "error",
          "ename": "TypeError",
          "evalue": "ignored",
          "traceback": [
            "\u001b[0;31m---------------------------------------------------------------------------\u001b[0m",
            "\u001b[0;31mTypeError\u001b[0m                                 Traceback (most recent call last)",
            "\u001b[0;32m<ipython-input-7-2c24817c6098>\u001b[0m in \u001b[0;36m<cell line: 4>\u001b[0;34m()\u001b[0m\n\u001b[1;32m      2\u001b[0m \u001b[0mx\u001b[0m\u001b[0;34m=\u001b[0m\u001b[0;36m1\u001b[0m\u001b[0;34m\u001b[0m\u001b[0;34m\u001b[0m\u001b[0m\n\u001b[1;32m      3\u001b[0m \u001b[0my\u001b[0m\u001b[0;34m=\u001b[0m\u001b[0;34m'2'\u001b[0m\u001b[0;34m\u001b[0m\u001b[0;34m\u001b[0m\u001b[0m\n\u001b[0;32m----> 4\u001b[0;31m \u001b[0msum\u001b[0m\u001b[0;34m=\u001b[0m\u001b[0mx\u001b[0m\u001b[0;34m+\u001b[0m\u001b[0my\u001b[0m\u001b[0;34m\u001b[0m\u001b[0;34m\u001b[0m\u001b[0m\n\u001b[0m\u001b[1;32m      5\u001b[0m \u001b[0mprint\u001b[0m\u001b[0;34m(\u001b[0m\u001b[0msum\u001b[0m\u001b[0;34m)\u001b[0m\u001b[0;34m\u001b[0m\u001b[0;34m\u001b[0m\u001b[0m\n",
            "\u001b[0;31mTypeError\u001b[0m: unsupported operand type(s) for +: 'int' and 'str'"
          ]
        }
      ]
    },
    {
      "cell_type": "code",
      "source": [
        "#Now we will use the knowladge you have learned in previous lessons\n",
        "#Prompt the user to enter x and y and print out the result\n",
        "print(\"Adding two numbers\")\n",
        "x=input('Enter first value: ')\n",
        "y=input('Enter second value: ')\n",
        "sum=x+y\n",
        "print('Check the result. Is it correct? ' + sum)\n",
        "\n",
        "#The answer is not correct is it\n",
        "#The problem is the input command reads the typing you do into string variable\n",
        "#When you add two strings in python it concatenets them\n",
        "#Check it out. Run the program again but this time enter your name as first value and your surname as second\n",
        "#Check next code block for solution"
      ],
      "metadata": {
        "colab": {
          "base_uri": "https://localhost:8080/"
        },
        "id": "-sVEorliPJEe",
        "outputId": "13527c66-dcf2-4a5e-ddee-58d4b3f20656"
      },
      "execution_count": 12,
      "outputs": [
        {
          "output_type": "stream",
          "name": "stdout",
          "text": [
            "Adding two numbers\n",
            "Enter first value: Robert\n",
            "Enter second value: Čmrlec\n",
            "Check the result. Is it correct? RobertČmrlec\n"
          ]
        }
      ]
    },
    {
      "cell_type": "code",
      "source": [
        "#We can use int() function to convert string to integer or float to convert string to float number\n",
        "print(\"Adding two numbers\")\n",
        "x=int(input('Enter first value: '))\n",
        "y=int(input('Enter second value: '))\n",
        "sum=x+y\n",
        "print('Check the result. Is it correct? ' + sum)\n",
        "\n",
        "#I didn't expect the error \"TypeError: can only concatenate str (not \"int\") to str\"\n",
        "#print worked just fine in previous examples \n",
        "#Have to think about this error. Check fro soulution in following code sample"
      ],
      "metadata": {
        "colab": {
          "base_uri": "https://localhost:8080/",
          "height": 252
        },
        "id": "DzMmW8prSPEd",
        "outputId": "7b91acf8-2194-4033-8d93-9f7a589fde9f"
      },
      "execution_count": 13,
      "outputs": [
        {
          "name": "stdout",
          "output_type": "stream",
          "text": [
            "Adding two numbers\n",
            "Enter first value: 2\n",
            "Enter second value: 3\n"
          ]
        },
        {
          "output_type": "error",
          "ename": "TypeError",
          "evalue": "ignored",
          "traceback": [
            "\u001b[0;31m---------------------------------------------------------------------------\u001b[0m",
            "\u001b[0;31mTypeError\u001b[0m                                 Traceback (most recent call last)",
            "\u001b[0;32m<ipython-input-13-1c8f4c4ba2b9>\u001b[0m in \u001b[0;36m<cell line: 5>\u001b[0;34m()\u001b[0m\n\u001b[1;32m      3\u001b[0m \u001b[0my\u001b[0m\u001b[0;34m=\u001b[0m\u001b[0mint\u001b[0m\u001b[0;34m(\u001b[0m\u001b[0minput\u001b[0m\u001b[0;34m(\u001b[0m\u001b[0;34m'Enter second value: '\u001b[0m\u001b[0;34m)\u001b[0m\u001b[0;34m)\u001b[0m\u001b[0;34m\u001b[0m\u001b[0;34m\u001b[0m\u001b[0m\n\u001b[1;32m      4\u001b[0m \u001b[0msum\u001b[0m\u001b[0;34m=\u001b[0m\u001b[0mx\u001b[0m\u001b[0;34m+\u001b[0m\u001b[0my\u001b[0m\u001b[0;34m\u001b[0m\u001b[0;34m\u001b[0m\u001b[0m\n\u001b[0;32m----> 5\u001b[0;31m \u001b[0mprint\u001b[0m\u001b[0;34m(\u001b[0m\u001b[0;34m'Check the result. Is it correct? '\u001b[0m \u001b[0;34m+\u001b[0m \u001b[0msum\u001b[0m\u001b[0;34m)\u001b[0m\u001b[0;34m\u001b[0m\u001b[0;34m\u001b[0m\u001b[0m\n\u001b[0m",
            "\u001b[0;31mTypeError\u001b[0m: can only concatenate str (not \"int\") to str"
          ]
        }
      ]
    },
    {
      "cell_type": "code",
      "source": [
        "#It turns out one can't combine strings and number in print the way we wanted to\n",
        "#We have to use something called string formatting\n",
        "#It turns out we have to enter special characters into string to tell print to change them with out number\n",
        "#This is the solution print('Check the result. Is it correct? %d' % sum)\n",
        "#print will replace %d with out sum variable\n",
        "#This is very important\n",
        "#Some other languages support or even demand that you declare type of variables, \n",
        "#which enables them to check if you did some error like that one we just struggled with, even before you run the program\n",
        "#Python is not like that. Errors like this can stay hidden evene after you use a program. They can pop up under some strange condition\n",
        "#Check the next code item for example\n",
        "\n",
        "print(\"Adding two numbers\")\n",
        "x=int(input('Enter first value: '))\n",
        "y=int(input('Enter second value: '))\n",
        "sum=x+y\n",
        "print('Check the result. Is it correct? %d' % sum)\n"
      ],
      "metadata": {
        "colab": {
          "base_uri": "https://localhost:8080/"
        },
        "id": "rjcEKIsnVXaV",
        "outputId": "72a066c5-7cb9-4caa-e9ff-d1907bd66bfe"
      },
      "execution_count": 14,
      "outputs": [
        {
          "output_type": "stream",
          "name": "stdout",
          "text": [
            "Adding two numbers\n",
            "Enter first value: 2\n",
            "Enter second value: 3\n",
            "Check the result. Is it correct? 5\n"
          ]
        }
      ]
    },
    {
      "cell_type": "code",
      "source": [
        "#This is an example to show you how an error can stay hidden for a long time\n",
        "#If you enter the value larger then 100, you will hit the bug, otherwise our program will do just fine.\n",
        "age=int(input(\"How old are you? \"))\n",
        "if age>100:\n",
        "  print(\"There is a say one gets younger after\"+x)\n",
        "else:\n",
        "  print(\"You are still young\")"
      ],
      "metadata": {
        "colab": {
          "base_uri": "https://localhost:8080/",
          "height": 252
        },
        "id": "Vq4N4cfcYYgf",
        "outputId": "c98265fd-2e84-4101-f11d-75c15a0f32e7"
      },
      "execution_count": 16,
      "outputs": [
        {
          "name": "stdout",
          "output_type": "stream",
          "text": [
            "How old are you? 101\n"
          ]
        },
        {
          "output_type": "error",
          "ename": "TypeError",
          "evalue": "ignored",
          "traceback": [
            "\u001b[0;31m---------------------------------------------------------------------------\u001b[0m",
            "\u001b[0;31mTypeError\u001b[0m                                 Traceback (most recent call last)",
            "\u001b[0;32m<ipython-input-16-52823085f8b3>\u001b[0m in \u001b[0;36m<cell line: 3>\u001b[0;34m()\u001b[0m\n\u001b[1;32m      2\u001b[0m \u001b[0mage\u001b[0m\u001b[0;34m=\u001b[0m\u001b[0mint\u001b[0m\u001b[0;34m(\u001b[0m\u001b[0minput\u001b[0m\u001b[0;34m(\u001b[0m\u001b[0;34m\"How old are you? \"\u001b[0m\u001b[0;34m)\u001b[0m\u001b[0;34m)\u001b[0m\u001b[0;34m\u001b[0m\u001b[0;34m\u001b[0m\u001b[0m\n\u001b[1;32m      3\u001b[0m \u001b[0;32mif\u001b[0m \u001b[0mage\u001b[0m\u001b[0;34m>\u001b[0m\u001b[0;36m100\u001b[0m\u001b[0;34m:\u001b[0m\u001b[0;34m\u001b[0m\u001b[0;34m\u001b[0m\u001b[0m\n\u001b[0;32m----> 4\u001b[0;31m   \u001b[0mprint\u001b[0m\u001b[0;34m(\u001b[0m\u001b[0;34m\"There is a say one gets younger after\"\u001b[0m\u001b[0;34m+\u001b[0m\u001b[0mx\u001b[0m\u001b[0;34m)\u001b[0m\u001b[0;34m\u001b[0m\u001b[0;34m\u001b[0m\u001b[0m\n\u001b[0m\u001b[1;32m      5\u001b[0m \u001b[0;32melse\u001b[0m\u001b[0;34m:\u001b[0m\u001b[0;34m\u001b[0m\u001b[0;34m\u001b[0m\u001b[0m\n\u001b[1;32m      6\u001b[0m   \u001b[0mprint\u001b[0m\u001b[0;34m(\u001b[0m\u001b[0;34m\"You are still young\"\u001b[0m\u001b[0;34m)\u001b[0m\u001b[0;34m\u001b[0m\u001b[0;34m\u001b[0m\u001b[0m\n",
            "\u001b[0;31mTypeError\u001b[0m: can only concatenate str (not \"int\") to str"
          ]
        }
      ]
    }
  ]
}
