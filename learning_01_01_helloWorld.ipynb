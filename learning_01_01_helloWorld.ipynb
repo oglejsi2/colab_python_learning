{
  "nbformat": 4,
  "nbformat_minor": 0,
  "metadata": {
    "colab": {
      "provenance": [],
      "authorship_tag": "ABX9TyPmgZ3vONhKe5QcIZLJona+",
      "include_colab_link": true
    },
    "kernelspec": {
      "name": "python3",
      "display_name": "Python 3"
    },
    "language_info": {
      "name": "python"
    }
  },
  "cells": [
    {
      "cell_type": "markdown",
      "metadata": {
        "id": "view-in-github",
        "colab_type": "text"
      },
      "source": [
        "<a href=\"https://colab.research.google.com/github/oglejsi2/colab_python_learning/blob/main/learning_01_01_helloWorld.ipynb\" target=\"_parent\"><img src=\"https://colab.research.google.com/assets/colab-badge.svg\" alt=\"Open In Colab\"/></a>"
      ]
    },
    {
      "cell_type": "code",
      "execution_count": null,
      "metadata": {
        "id": "TltlTjVOFahG"
      },
      "outputs": [],
      "source": [
        "#Let's write our first program. It has to be Hello world program.\n",
        "#This is very simple program that writes Hello world on your screen\n",
        "#Programing languages are a bunch of commands that instructs the computer what to do\n",
        "#One of such commands is print. Print command prints something on screen.\n",
        "print(\"Hello World\")"
      ]
    }
  ]
}